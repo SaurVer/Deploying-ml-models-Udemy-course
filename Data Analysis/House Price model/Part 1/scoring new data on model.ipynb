{
 "cells": [
  {
   "cell_type": "code",
   "execution_count": 1,
   "metadata": {},
   "outputs": [],
   "source": [
    "import pandas as ps\n",
    "import numpy as np\n",
    "import matplotlib.pyplot as plt\n",
    "\n",
    "import scipy.stats as stats\n",
    "\n",
    "\n",
    "import joblib\n"
   ]
  },
  {
   "cell_type": "markdown",
   "metadata": {},
   "source": [
    "At this stage if new data arrive we will have to undertake all the steps of cleaning and preparing the data one by one and the apply single line model.predict(data) to get the results.\n",
    "\n",
    "This can get time consuming and unstable.\n",
    "\n",
    "\n",
    "Some problems \n",
    "-- Need of writing a lot of code : repetitive\n",
    "\n",
    "-- hard coded a lot of parameters : if these cahnge we need to write again\n",
    "\n",
    "-- engineered a lot of variables that we actually do not need for models\n",
    "\n",
    "-- if additional varables start having missing data then we do not know what to do with them\n"
   ]
  },
  {
   "cell_type": "code",
   "execution_count": null,
   "metadata": {},
   "outputs": [],
   "source": []
  }
 ],
 "metadata": {
  "kernelspec": {
   "display_name": "Python 3",
   "language": "python",
   "name": "python3"
  },
  "language_info": {
   "codemirror_mode": {
    "name": "ipython",
    "version": 3
   },
   "file_extension": ".py",
   "mimetype": "text/x-python",
   "name": "python",
   "nbconvert_exporter": "python",
   "pygments_lexer": "ipython3",
   "version": "3.9.6"
  }
 },
 "nbformat": 4,
 "nbformat_minor": 2
}
